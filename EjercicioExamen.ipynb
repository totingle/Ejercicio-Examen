{
 "cells": [
  {
   "cell_type": "code",
   "execution_count": 1,
   "metadata": {},
   "outputs": [
    {
     "name": "stdout",
     "output_type": "stream",
     "text": [
      "Ingrese el tamaño de la lista:4\n",
      "[2, 4, 6, 8]\n",
      "[8, 64, 216, 512]\n",
      "\n",
      "Valor inicial:  8\n",
      "Valores del centro:  [64, 216]\n",
      "Valor final:  512\n"
     ]
    }
   ],
   "source": [
    "# a) \n",
    "tamaño = int(input(\"Ingrese tamaño de la lista:\"))\n",
    "valor = tamaño + 1\n",
    "\n",
    "numeros = list(range(2, valor*2, 2))\n",
    "print(numeros)\n",
    "\n",
    "numeros = list(num**3 for num in numeros)\n",
    "print(numeros)\n",
    "\n",
    "print(\"\\nValor inicial: \", numeros[0])\n",
    "print(\"Valores del centro: \", numeros[1:-1])\n",
    "print(\"Valor final: \", numeros[-1])"
   ]
  },
  {
   "cell_type": "code",
   "execution_count": 4,
   "metadata": {},
   "outputs": [
    {
     "name": "stdout",
     "output_type": "stream",
     "text": [
      "Para acabar la encuesta, escriba 'basta'\n",
      "Ingrese su lugar favorito: chile\n",
      "Ingrese su lugar favorito: paris\n",
      "Ingrese su lugar favorito: chile\n",
      "Ingrese su lugar favorito: chile\n",
      "Ingrese su lugar favorito: holanda\n",
      "Ingrese su lugar favorito: basta\n",
      "['chile', 'paris', 'chile', 'chile', 'holanda']\n",
      "La opción  basta se repite  6 veces\n"
     ]
    }
   ],
   "source": [
    "# b)\n",
    "lista = []\n",
    "\n",
    "cont = 0\n",
    "r=\"\"\n",
    "basta = \"basta\"\n",
    "print(\"Para acabar la encuesta, escriba 'basta'\")\n",
    "while r!=basta:\n",
    "    r=str(input(\"Ingrese su lugar favorito: \"))\n",
    "    if r==r:\n",
    "        cont = cont + 1\n",
    "    lista.append(r)\n",
    "print(lista[:-1])\n",
    "print(\"La opción \", r, \"se repite \", cont, \"veces\")"
   ]
  },
  {
   "cell_type": "code",
   "execution_count": null,
   "metadata": {},
   "outputs": [],
   "source": []
  }
 ],
 "metadata": {
  "kernelspec": {
   "display_name": "Python 3",
   "language": "python",
   "name": "python3"
  },
  "language_info": {
   "codemirror_mode": {
    "name": "ipython",
    "version": 3
   },
   "file_extension": ".py",
   "mimetype": "text/x-python",
   "name": "python",
   "nbconvert_exporter": "python",
   "pygments_lexer": "ipython3",
   "version": "3.7.3"
  }
 },
 "nbformat": 4,
 "nbformat_minor": 2
}
